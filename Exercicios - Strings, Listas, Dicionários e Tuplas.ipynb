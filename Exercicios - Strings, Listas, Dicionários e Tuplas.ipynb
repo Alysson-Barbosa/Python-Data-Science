{
 "cells": [
  {
   "cell_type": "markdown",
   "id": "ef96e862",
   "metadata": {},
   "source": [
    "# <font color='blue'>Data Science Academy - Python Fundamentos - Capítulo 2</font>\n",
    "\n",
    "## Download: http://github.com/dsacademybr"
   ]
  },
  {
   "cell_type": "code",
   "execution_count": 24,
   "id": "2079492d",
   "metadata": {},
   "outputs": [
    {
     "name": "stdout",
     "output_type": "stream",
     "text": [
      "Versão da Linguagem Python Usada Neste Jupyter Notebook: 3.9.7\n"
     ]
    }
   ],
   "source": [
    "# Versão da Linguagem Python\n",
    "from platform import python_version\n",
    "print('Versão da Linguagem Python Usada Neste Jupyter Notebook:', python_version())"
   ]
  },
  {
   "cell_type": "markdown",
   "id": "a685cf1d",
   "metadata": {},
   "source": [
    "## Exercícios Cap02 - Soluções"
   ]
  },
  {
   "cell_type": "code",
   "execution_count": 12,
   "id": "230dc5c6",
   "metadata": {},
   "outputs": [
    {
     "name": "stdout",
     "output_type": "stream",
     "text": [
      "[1, 2, 3, 4, 5, 6, 7, 8, 9, 10]\n"
     ]
    }
   ],
   "source": [
    "# Exercício 1 - Imprima na tela os números de 1 a 10. Use uma lista para armazenar os números.\n",
    "\n",
    "lista10 = [1, 2, 3, 4, 5, 6 , 7, 8 ,9, 10]\n",
    "print(lista10)"
   ]
  },
  {
   "cell_type": "code",
   "execution_count": 13,
   "id": "a5dea712",
   "metadata": {},
   "outputs": [
    {
     "name": "stdout",
     "output_type": "stream",
     "text": [
      "[1, 'Oi', 2.0, [2, 3], 5]\n"
     ]
    }
   ],
   "source": [
    "# Exercício 2 - Crie uma lista de 5 objetos e imprima na tela\n",
    "\n",
    "lista5 = [1, \"Oi\", 2.0, [2,3], 5]\n",
    "print(lista5)"
   ]
  },
  {
   "cell_type": "code",
   "execution_count": 14,
   "id": "65f37a06",
   "metadata": {},
   "outputs": [
    {
     "name": "stdout",
     "output_type": "stream",
     "text": [
      "Meu nomeé Aysson.\n"
     ]
    }
   ],
   "source": [
    "# Exercício 3 - Crie duas strings e concatene as duas em uma terceira string\n",
    "\n",
    "String1 = \"Meu nome\"\n",
    "String2 = \"é Aysson.\"\n",
    "StringTotal = String1 + String2\n",
    "print(StringTotal)"
   ]
  },
  {
   "cell_type": "code",
   "execution_count": 15,
   "id": "121c880e",
   "metadata": {},
   "outputs": [
    {
     "data": {
      "text/plain": [
       "3"
      ]
     },
     "execution_count": 15,
     "metadata": {},
     "output_type": "execute_result"
    }
   ],
   "source": [
    "# Exercício 4 - Crie uma tupla com os seguintes elementos: 1, 2, 2, 3, 4, 4, 4, 5 e depois utilize a função count do \n",
    "# objeto tupla para verificar quantas vezes o número 4 aparece na tupla\n",
    "\n",
    "tup1 = (1, 2, 3, 4, 4, 4, 5)\n",
    "tup1.count(4)"
   ]
  },
  {
   "cell_type": "code",
   "execution_count": 17,
   "id": "bba505fd",
   "metadata": {},
   "outputs": [
    {
     "name": "stdout",
     "output_type": "stream",
     "text": [
      "{}\n"
     ]
    }
   ],
   "source": [
    "# Exercício 5 - Crie um dicionário vazio e imprima na tela\n",
    "\n",
    "dic1 = {}\n",
    "print(dic1)"
   ]
  },
  {
   "cell_type": "code",
   "execution_count": 18,
   "id": "ffe37eaf",
   "metadata": {},
   "outputs": [
    {
     "name": "stdout",
     "output_type": "stream",
     "text": [
      "{1: 'Namjoon', 2: 'Jhope', 3: 'Jimin'}\n"
     ]
    }
   ],
   "source": [
    "# Exercício 6 - Crie um dicionário com 3 chaves e 3 valores e imprima na tela\n",
    "\n",
    "bts_bias = {1: \"Namjoon\", 2: \"Jhope\", 3: \"Jimin\"}\n",
    "print(bts_bias)"
   ]
  },
  {
   "cell_type": "code",
   "execution_count": 19,
   "id": "bf16a34a",
   "metadata": {},
   "outputs": [
    {
     "name": "stdout",
     "output_type": "stream",
     "text": [
      "{1: 'Namjoon', 2: 'Jhope', 3: 'Jimin', 4: 'Taehyung'}\n"
     ]
    }
   ],
   "source": [
    "# Exercício 7 - Adicione mais um elemento ao dicionário criado no exercício anterior e imprima na tela\n",
    "\n",
    "bts_bias[4] = \"Taehyung\"\n",
    "print(bts_bias)"
   ]
  },
  {
   "cell_type": "code",
   "execution_count": 20,
   "id": "00600f9f",
   "metadata": {},
   "outputs": [
    {
     "name": "stdout",
     "output_type": "stream",
     "text": [
      "{'Hermes': 'Jin', 'Balenciaga': 'Hoseok', 'Cartier': [1, 2]}\n"
     ]
    }
   ],
   "source": [
    "# Exercício 8 - Crie um dicionário com 3 chaves e 3 valores. Um dos valores deve ser uma lista de 2 elementos numéricos. \n",
    "# Imprima o dicionário na tela.\n",
    "\n",
    "bts_marcas = {\"Hermes\": \"Jin\", \"Balenciaga\": \"Hoseok\", \"Cartier\": [1, 2]}\n",
    "print(bts_marcas)"
   ]
  },
  {
   "cell_type": "code",
   "execution_count": 21,
   "id": "78f4f33f",
   "metadata": {},
   "outputs": [
    {
     "name": "stdout",
     "output_type": "stream",
     "text": [
      "['Oi', (1, 2), {1: 'Namjoon', 2: 'Hoseok'}, 2.0]\n"
     ]
    }
   ],
   "source": [
    "# Exercício 9 - Crie uma lista de 4 elementos. O primeiro elemento deve ser uma string, \n",
    "# o segundo uma tupla de 2 elementos, o terceiro um dcionário com 2 chaves e 2 valores e \n",
    "# o quarto elemento um valor do tipo float.\n",
    "# Imprima a lista na tela.\n",
    "\n",
    "lista9 = [\"Oi\", (1, 2), {1: \"Namjoon\", 2: \"Hoseok\"}, 2.0]\n",
    "print(lista9)"
   ]
  },
  {
   "cell_type": "code",
   "execution_count": 22,
   "id": "315a2672",
   "metadata": {},
   "outputs": [],
   "source": [
    "# Exercício 10 - Considere a string abaixo. Imprima na tela apenas os caracteres da posição 1 a 18.\n",
    "frase = 'Cientista de Dados é o profissional mais sexy do século XXI'"
   ]
  },
  {
   "cell_type": "code",
   "execution_count": 23,
   "id": "830689d5",
   "metadata": {},
   "outputs": [
    {
     "data": {
      "text/plain": [
       "'Cientista de Dados'"
      ]
     },
     "execution_count": 23,
     "metadata": {},
     "output_type": "execute_result"
    }
   ],
   "source": [
    "frase[0:18]"
   ]
  },
  {
   "cell_type": "code",
   "execution_count": null,
   "id": "f2085802",
   "metadata": {},
   "outputs": [],
   "source": []
  }
 ],
 "metadata": {
  "kernelspec": {
   "display_name": "Python 3 (ipykernel)",
   "language": "python",
   "name": "python3"
  },
  "language_info": {
   "codemirror_mode": {
    "name": "ipython",
    "version": 3
   },
   "file_extension": ".py",
   "mimetype": "text/x-python",
   "name": "python",
   "nbconvert_exporter": "python",
   "pygments_lexer": "ipython3",
   "version": "3.9.7"
  }
 },
 "nbformat": 4,
 "nbformat_minor": 5
}
